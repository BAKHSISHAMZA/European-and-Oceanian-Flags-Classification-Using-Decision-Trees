{
 "cells": [
  {
   "cell_type": "code",
   "execution_count": 1,
   "metadata": {},
   "outputs": [],
   "source": [
    "import numpy as np\n",
    "from sklearn.tree import DecisionTreeClassifier\n",
    "import matplotlib.pyplot as plt\n",
    "\n",
    "# Determine the best max_depth for a Decision Tree\n",
    "max_depths = []\n",
    "acc = []\n",
    "for i in range(1, 21):\n",
    "    dtree = DecisionTreeClassifier(max_depth=i)\n",
    "    dtree.fit(x_train, y_train)\n",
    "    max_depths.append(i)\n",
    "    acc.append(dtree.score(x_test, y_test))\n",
    "\n",
    "# Plot accuracy vs max_depth\n",
    "plt.plot(max_depths, acc)\n",
    "plt.xlabel('Max Depth')\n",
    "plt.ylabel('Accuracy')\n",
    "plt.title('Max Depth Optimization')\n",
    "plt.show()\n",
    "\n",
    "# Find the best ccp_alpha for the Decision Tree\n",
    "ccp = np.logspace(-3, 0, num=20)\n",
    "accuracy = []\n",
    "for alpha in ccp:\n",
    "    dtree = DecisionTreeClassifier(max_depth=2, ccp_alpha=alpha)\n",
    "    dtree.fit(x_train, y_train)\n",
    "    accuracy.append(dtree.score(x_test, y_test))\n",
    "\n",
    "# Plot accuracy vs ccp_alpha\n",
    "plt.plot(ccp, accuracy)\n",
    "plt.xlabel('CCP Alpha')\n",
    "plt.ylabel('Accuracy')\n",
    "plt.title('CCP Alpha Optimization')\n",
    "plt.show()\n",
    "\n",
    "# Select the optimal max_depth and ccp_alpha\n",
    "optimal_depth = max_depths[acc.index(max(acc))]\n",
    "optimal_alpha = ccp[accuracy.index(max(accuracy))]\n"
   ]
  }
 ],
 "metadata": {
  "kernelspec": {
   "display_name": "Python 3",
   "language": "python",
   "name": "python3"
  },
  "language_info": {
   "codemirror_mode": {
    "name": "ipython",
    "version": 3
   },
   "file_extension": ".py",
   "mimetype": "text/x-python",
   "name": "python",
   "nbconvert_exporter": "python",
   "pygments_lexer": "ipython3",
   "version": "3.10.0"
  }
 },
 "nbformat": 4,
 "nbformat_minor": 2
}
