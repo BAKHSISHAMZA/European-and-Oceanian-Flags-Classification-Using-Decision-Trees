{
 "cells": [
  {
   "cell_type": "code",
   "execution_count": 1,
   "metadata": {},
   "outputs": [],
   "source": [
    "import pandas as pd\n",
    "from sklearn.model_selection import train_test_split\n",
    "\n",
    "# Define the column names for the dataset\n",
    "cols = ['name', 'landmass', 'zone', 'area', 'population', 'language', 'religion',\n",
    "        'bars', 'stripes', 'colours', 'red', 'green', 'blue', 'gold', 'white',\n",
    "        'black', 'orange', 'mainhue', 'circles', 'crosses', 'saltires',\n",
    "        'quarters', 'sunstars', 'crescent', 'triangle', 'icon', 'animate',\n",
    "        'text', 'topleft', 'botright']\n",
    "\n",
    "# Load the dataset\n",
    "df = pd.read_csv(r\"C:\\Users\\usuario\\Downloads\\flags\\flag.data\", names=cols)\n",
    "\n",
    "# Select predictors\n",
    "var = ['red', 'green', 'blue', 'gold', 'white', 'black', 'orange', 'mainhue',\n",
    "       'bars', 'stripes', 'circles', 'crosses', 'saltires', 'quarters',\n",
    "       'sunstars', 'triangle', 'animate']\n",
    "\n",
    "# Filter dataset for European and Oceanian countries\n",
    "eur_ocia = df[df['landmass'].isin([3, 6])]\n",
    "\n",
    "# Get dummies for categorical variables\n",
    "data = pd.get_dummies(eur_ocia[var])\n",
    "\n",
    "# Define the labels\n",
    "labels = eur_ocia['landmass']\n",
    "\n",
    "# Split the dataset into training and testing sets\n",
    "x_train, x_test, y_train, y_test = train_test_split(data, labels, random_state=1, test_size=0.4)\n"
   ]
  }
 ],
 "metadata": {
  "kernelspec": {
   "display_name": "Python 3",
   "language": "python",
   "name": "python3"
  },
  "language_info": {
   "codemirror_mode": {
    "name": "ipython",
    "version": 3
   },
   "file_extension": ".py",
   "mimetype": "text/x-python",
   "name": "python",
   "nbconvert_exporter": "python",
   "pygments_lexer": "ipython3",
   "version": "3.10.11"
  }
 },
 "nbformat": 4,
 "nbformat_minor": 2
}
