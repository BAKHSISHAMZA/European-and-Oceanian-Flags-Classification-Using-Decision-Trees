{
 "cells": [
  {
   "cell_type": "code",
   "execution_count": 1,
   "metadata": {},
   "outputs": [],
   "source": [
    "from sklearn import tree\n",
    "\n",
    "# Train the optimal decision tree\n",
    "dtree_optimal = DecisionTreeClassifier(max_depth=optimal_depth, ccp_alpha=optimal_alpha)\n",
    "dtree_optimal.fit(x_train, y_train)\n",
    "\n",
    "# Plot and save the decision tree\n",
    "plt.figure(figsize=(30, 20))\n",
    "tree.plot_tree(dtree_optimal, filled=True, feature_names=data.columns, class_names=['Europe', 'Oceania'])\n",
    "plt.savefig(r\"C:\\Users\\usuario\\Pictures\\Screenshots\\decision_tree_full.png\", format='png', dpi=300, bbox_inches='tight')\n",
    "plt.show()\n",
    "\n"
   ]
  }
 ],
 "metadata": {
  "kernelspec": {
   "display_name": "Python 3",
   "language": "python",
   "name": "python3"
  },
  "language_info": {
   "codemirror_mode": {
    "name": "ipython",
    "version": 3
   },
   "file_extension": ".py",
   "mimetype": "text/x-python",
   "name": "python",
   "nbconvert_exporter": "python",
   "pygments_lexer": "ipython3",
   "version": "3.10.0"
  }
 },
 "nbformat": 4,
 "nbformat_minor": 2
}
